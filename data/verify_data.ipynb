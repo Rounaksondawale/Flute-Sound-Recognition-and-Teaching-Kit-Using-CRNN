{
 "cells": [
  {
   "cell_type": "code",
   "execution_count": 1,
   "metadata": {},
   "outputs": [],
   "source": [
    "import numpy as np\n",
    "import matplotlib.pyplot as plt\n",
    "import librosa\n",
    "import os"
   ]
  },
  {
   "cell_type": "code",
   "execution_count": 2,
   "metadata": {},
   "outputs": [],
   "source": [
    "main_path = r\"C:\\Resume_projects\\flute_teaching_kit\\data\\processed_data\""
   ]
  },
  {
   "cell_type": "code",
   "execution_count": 3,
   "metadata": {},
   "outputs": [
    {
     "name": "stdout",
     "output_type": "stream",
     "text": [
      "1122 0\n"
     ]
    }
   ],
   "source": [
    "## check shape\n",
    "\n",
    "notes = os.listdir(main_path)\n",
    "shape = (128, 29)\n",
    "correct_shape = 0\n",
    "incorrect_shape = 0\n",
    "\n",
    "for note in notes:\n",
    "\n",
    "    note_path = os.path.join(main_path, note)\n",
    "    files = os.listdir(note_path)\n",
    "\n",
    "    for file in files:\n",
    "        \n",
    "        array = np.load(os.path.join(note_path, file))\n",
    "        \n",
    "        if array.shape == shape:\n",
    "            correct_shape += 1\n",
    "        else:\n",
    "            incorrect_shape +=1\n",
    "\n",
    "print(correct_shape, incorrect_shape)"
   ]
  },
  {
   "cell_type": "code",
   "execution_count": 4,
   "metadata": {},
   "outputs": [
    {
     "name": "stdout",
     "output_type": "stream",
     "text": [
      "1122 0\n"
     ]
    }
   ],
   "source": [
    "## check normalization \n",
    "\n",
    "notes = os.listdir(main_path)\n",
    "\n",
    "normalize = 0\n",
    "non_normalize = 0\n",
    "\n",
    "non_norm_array = []\n",
    "\n",
    "for note in notes:\n",
    "\n",
    "    note_path = os.path.join(main_path, note)\n",
    "    files = os.listdir(note_path)\n",
    "\n",
    "    for file in files:\n",
    "        \n",
    "        array = np.load(os.path.join(note_path, file))\n",
    "        \n",
    "        if np.isclose(np.min(array), 0) and np.isclose(np.max(array), 1):\n",
    "            normalize += 1\n",
    "        else:\n",
    "            non_normalize += 1\n",
    "            non_norm_array.append(array)\n",
    "\n",
    "print(normalize, non_normalize)"
   ]
  },
  {
   "cell_type": "code",
   "execution_count": null,
   "metadata": {},
   "outputs": [],
   "source": []
  }
 ],
 "metadata": {
  "kernelspec": {
   "display_name": "Python 3",
   "language": "python",
   "name": "python3"
  },
  "language_info": {
   "codemirror_mode": {
    "name": "ipython",
    "version": 3
   },
   "file_extension": ".py",
   "mimetype": "text/x-python",
   "name": "python",
   "nbconvert_exporter": "python",
   "pygments_lexer": "ipython3",
   "version": "3.11.5"
  }
 },
 "nbformat": 4,
 "nbformat_minor": 2
}
