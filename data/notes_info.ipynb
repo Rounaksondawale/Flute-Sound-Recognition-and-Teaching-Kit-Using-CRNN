{
 "cells": [
  {
   "cell_type": "markdown",
   "metadata": {},
   "source": [
    "## Import Necessary Libraries"
   ]
  },
  {
   "cell_type": "code",
   "execution_count": 1,
   "metadata": {},
   "outputs": [],
   "source": [
    "import os\n",
    "import librosa\n",
    "import pandas as pd\n",
    "import matplotlib.pyplot as plt"
   ]
  },
  {
   "cell_type": "markdown",
   "metadata": {},
   "source": [
    "## Access Audio Files"
   ]
  },
  {
   "cell_type": "code",
   "execution_count": 2,
   "metadata": {},
   "outputs": [],
   "source": [
    "main_path = r\"C:\\Resume_projects\\flute_teaching_kit\\data\\notes\"\n",
    "notes = [f for f in os.listdir(main_path) if os.path.isdir(os.path.join(main_path, f))]"
   ]
  },
  {
   "cell_type": "code",
   "execution_count": 3,
   "metadata": {},
   "outputs": [
    {
     "data": {
      "text/plain": [
       "['dha', 'ga', 'ma', 'ni', 'pa', 're', 'sa', \"sa'\"]"
      ]
     },
     "execution_count": 3,
     "metadata": {},
     "output_type": "execute_result"
    }
   ],
   "source": [
    "notes"
   ]
  },
  {
   "cell_type": "markdown",
   "metadata": {},
   "source": [
    "## Number of Samples"
   ]
  },
  {
   "cell_type": "code",
   "execution_count": 4,
   "metadata": {},
   "outputs": [
    {
     "name": "stdout",
     "output_type": "stream",
     "text": [
      "number of dha :  147\n",
      "number of ga :  136\n",
      "number of ma :  130\n",
      "number of ni :  145\n",
      "number of pa :  137\n",
      "number of re :  145\n",
      "number of sa :  137\n",
      "number of sa' :  145\n",
      "-----\n",
      "mean notes :  140.25\n"
     ]
    }
   ],
   "source": [
    "total = 0\n",
    "\n",
    "for note in notes:\n",
    "\n",
    "    notes_path = os.path.join(main_path, note)\n",
    "    audios = os.listdir(notes_path)\n",
    "\n",
    "    count = 0\n",
    "    for audio in audios:\n",
    "        audio_path = os.path.join(notes_path, audio)\n",
    "        y, sr = librosa.load(audio_path)\n",
    "\n",
    "        raw_series = pd.Series(y)\n",
    "        intervals = librosa.effects.split(y, top_db=20)\n",
    "        count += len(intervals)\n",
    "        total += len(intervals)\n",
    "\n",
    "    print(f\"number of {note} : \", count)\n",
    "\n",
    "print(\"-----\")\n",
    "print(\"mean notes : \", total/len(notes))"
   ]
  },
  {
   "cell_type": "markdown",
   "metadata": {},
   "source": [
    "## Mean Sample Size"
   ]
  },
  {
   "cell_type": "code",
   "execution_count": 5,
   "metadata": {},
   "outputs": [
    {
     "name": "stdout",
     "output_type": "stream",
     "text": [
      "Mean dha sample size: 14234\n",
      "Mean ga sample size: 14433\n",
      "Mean ma sample size: 14150\n",
      "Mean ni sample size: 14000\n",
      "Mean pa sample size: 15804\n",
      "Mean re sample size: 12820\n",
      "Mean sa sample size: 13896\n",
      "Mean sa' sample size: 15483\n",
      "-----\n",
      "Mean sample size: 14346\n"
     ]
    }
   ],
   "source": [
    "sum_intervals = 0\n",
    "total_samples = 0\n",
    "\n",
    "for note in notes:\n",
    "    notes_path = os.path.join(main_path, note)\n",
    "    audios = os.listdir(notes_path)\n",
    "\n",
    "    total_length = 0  # Total duration of valid intervals for this note\n",
    "    total_intervals = 0  # Total number of valid intervals for this note\n",
    "\n",
    "    for audio in audios:\n",
    "        audio_path = os.path.join(notes_path, audio)\n",
    "        y, sr = librosa.load(audio_path)\n",
    "\n",
    "        intervals = librosa.effects.split(y, top_db=30)\n",
    "\n",
    "        for interval in intervals:\n",
    "            total_length += (interval[1] - interval[0])  # Add interval duration\n",
    "\n",
    "        total_intervals += len(intervals)  # Count total intervals\n",
    "\n",
    "    if total_intervals > 0:\n",
    "        mean_note_sample_size = total_length // total_intervals\n",
    "        print(f'Mean {note} sample size: {mean_note_sample_size}')\n",
    "        sum_intervals += total_length\n",
    "        total_samples += total_intervals\n",
    "    else:\n",
    "        print(f'No valid intervals found for {note}')\n",
    "\n",
    "# Compute overall mean sample size\n",
    "if total_samples > 0:\n",
    "    mean_sample_size = sum_intervals // total_samples\n",
    "    print(\"-----\")\n",
    "    print(\"Mean sample size:\", mean_sample_size)\n",
    "else:\n",
    "    print(\"No valid samples found.\")"
   ]
  },
  {
   "cell_type": "code",
   "execution_count": null,
   "metadata": {},
   "outputs": [],
   "source": []
  }
 ],
 "metadata": {
  "kernelspec": {
   "display_name": "Python 3",
   "language": "python",
   "name": "python3"
  },
  "language_info": {
   "codemirror_mode": {
    "name": "ipython",
    "version": 3
   },
   "file_extension": ".py",
   "mimetype": "text/x-python",
   "name": "python",
   "nbconvert_exporter": "python",
   "pygments_lexer": "ipython3",
   "version": "3.11.5"
  }
 },
 "nbformat": 4,
 "nbformat_minor": 2
}
