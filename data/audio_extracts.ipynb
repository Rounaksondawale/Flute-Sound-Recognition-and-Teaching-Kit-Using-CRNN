{
 "cells": [
  {
   "cell_type": "code",
   "execution_count": 2,
   "metadata": {},
   "outputs": [
    {
     "name": "stdout",
     "output_type": "stream",
     "text": [
      "number of dha :  147\n",
      "number of ga :  136\n",
      "number of ma :  130\n",
      "number of ni :  145\n",
      "number of pa :  137\n",
      "number of re :  145\n",
      "number of sa :  137\n",
      "number of sa' :  145\n",
      "-----\n",
      "mean notes :  140.25\n",
      "Mean dha sample size: 14234\n",
      "Mean ga sample size: 14433\n",
      "Mean ma sample size: 14150\n",
      "Mean ni sample size: 14000\n",
      "Mean pa sample size: 15804\n",
      "Mean re sample size: 12820\n",
      "Mean sa sample size: 13896\n",
      "Mean sa' sample size: 15483\n",
      "-----\n",
      "Mean sample size: 14346\n"
     ]
    }
   ],
   "source": [
    "from ipynb.fs.full import notes_info\n",
    "\n",
    "import os\n",
    "import numpy as np\n",
    "import librosa\n",
    "import librosa.display"
   ]
  },
  {
   "cell_type": "code",
   "execution_count": 3,
   "metadata": {},
   "outputs": [],
   "source": [
    "mean_sample_size = notes_info.mean_sample_size\n",
    "sample_radius = mean_sample_size//2"
   ]
  },
  {
   "cell_type": "code",
   "execution_count": 4,
   "metadata": {},
   "outputs": [],
   "source": [
    "main_path = r\"C:\\Resume_projects\\flute_teaching_kit\\data\\notes\"\n",
    "folder_path = r\"C:\\Resume_projects\\flute_teaching_kit\\data\\processed_data\""
   ]
  },
  {
   "cell_type": "code",
   "execution_count": null,
   "metadata": {},
   "outputs": [],
   "source": [
    "notes = os.listdir(main_path)\n",
    "\n",
    "shape = mean_sample_size\n",
    "shape_correct = []\n",
    "shape_wrong = []\n",
    "\n",
    "for note in notes:\n",
    "    note_path = os.path.join(main_path, note)\n",
    "    number = 1\n",
    "    os.makedirs(os.path.join(folder_path, note), exist_ok=True)\n",
    "    \n",
    "    for file in os.listdir(note_path):\n",
    "        file_path = os.path.join(note_path, file)\n",
    "        y, sr = librosa.load(file_path)\n",
    "\n",
    "        for start, end in librosa.effects.split(y, top_db=30):\n",
    "            mid = (start + end) // 2\n",
    "            left = max(0, mid - sample_radius) \n",
    "            right = min(len(y), mid + sample_radius) \n",
    "\n",
    "            y_sample = y[left:right]\n",
    "            y_sample = np.pad(y_sample, (0, max(0, shape - len(y_sample))), mode='constant')[:shape]\n",
    "\n",
    "            mel_spec = librosa.feature.melspectrogram(y=y_sample, sr=sr, n_mels=128)\n",
    "            sound_db_sample = librosa.power_to_db(mel_spec, ref=np.max)\n",
    "\n",
    "            # Clip to range [-80, 0] and normalize to [0, 1]\n",
    "            sound_db_sample = np.clip(sound_db_sample, -80, 0)\n",
    "            sound_db_sample = (sound_db_sample + 80) / 80  # Normalize to range [0, 1]\n",
    "\n",
    "            # Ensure the normalization process (Min-Max scaling)\n",
    "            min_val = np.min(sound_db_sample)\n",
    "            max_val = np.max(sound_db_sample)\n",
    "            if min_val != max_val:  # Avoid division by zero\n",
    "                sound_db_sample = (sound_db_sample - min_val) / (max_val - min_val)\n",
    "            else:\n",
    "                sound_db_sample = np.zeros_like(sound_db_sample)  # Handle case of constant array\n",
    "\n",
    "            # Save the normalized spectrogram\n",
    "            np.save(os.path.join(folder_path, note, f\"{note}_{number}.npy\"), sound_db_sample)\n",
    "            number += 1"
   ]
  },
  {
   "cell_type": "code",
   "execution_count": null,
   "metadata": {},
   "outputs": [],
   "source": []
  }
 ],
 "metadata": {
  "kernelspec": {
   "display_name": "Python 3",
   "language": "python",
   "name": "python3"
  },
  "language_info": {
   "codemirror_mode": {
    "name": "ipython",
    "version": 3
   },
   "file_extension": ".py",
   "mimetype": "text/x-python",
   "name": "python",
   "nbconvert_exporter": "python",
   "pygments_lexer": "ipython3",
   "version": "3.11.5"
  }
 },
 "nbformat": 4,
 "nbformat_minor": 2
}
